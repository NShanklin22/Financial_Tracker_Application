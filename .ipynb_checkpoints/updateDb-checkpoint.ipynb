{
 "cells": [
  {
   "cell_type": "code",
   "execution_count": 83,
   "id": "3581c1b4",
   "metadata": {},
   "outputs": [],
   "source": [
    "import pandas as pd\n",
    "import numpy as np\n",
    "import matplotlib as plt\n",
    "import sqlalchemy\n",
    "import sqlite3\n",
    "import datetime\n",
    "from datetime import datetime"
   ]
  },
  {
   "cell_type": "code",
   "execution_count": 86,
   "id": "16fcdd7b",
   "metadata": {},
   "outputs": [],
   "source": [
    "connection = sqlite3.connect('data\\Portfolio.db')\n",
    "cursor = connection.cursor()\n",
    "engine = sqlalchemy.create_engine('sqlite:///data\\Portfolio.db').connect()\n",
    "\n",
    "df = pd.read_sql_table('PortfolioData', engine, index_col='date')\n",
    "\n",
    "today = datetime.today().date()\n",
    "\n",
    "global assets\n",
    "assets = ['btc','cash','gold','silver','spy']"
   ]
  },
  {
   "cell_type": "code",
   "execution_count": 34,
   "id": "f64283d3",
   "metadata": {},
   "outputs": [],
   "source": [
    "def getNewRow(assets):\n",
    "    today = datetime.today().date()\n",
    "    new_row = pd.DataFrame(index=[today])\n",
    "    confirm = False\n",
    "    while not confirm:\n",
    "        for i in range(len(assets)):\n",
    "            new_row[assets[i]] = input(\"Please enter a value for {}: \".format(assets[i]))\n",
    "        print(new_row.head())\n",
    "        response = input(\"Does this look correct? (Y/N): \")\n",
    "        if response == \"Y\":\n",
    "            confirm = True\n",
    "        elif response == \"N\":\n",
    "            confirm = False\n",
    "        else:\n",
    "            print(\"That is not a valid response\")\n",
    "    return new_row"
   ]
  },
  {
   "cell_type": "code",
   "execution_count": 35,
   "id": "16f5e4c3",
   "metadata": {},
   "outputs": [],
   "source": [
    "today = datetime.today().date()\n",
    "new_row = pd.DataFrame(index=[today])"
   ]
  },
  {
   "cell_type": "code",
   "execution_count": 57,
   "id": "c1d02c76",
   "metadata": {},
   "outputs": [],
   "source": [
    "new_row[assets] = 1\n",
    "new_row['total'] = new_row.sum(axis=1)"
   ]
  },
  {
   "cell_type": "code",
   "execution_count": 58,
   "id": "ee77f750",
   "metadata": {},
   "outputs": [
    {
     "name": "stdout",
     "output_type": "stream",
     "text": [
      "            btc  cash  gold  silver  spy  total\n",
      "2022-04-03    1     1     1       1    1    5.0\n"
     ]
    }
   ],
   "source": [
    "print(new_row)"
   ]
  },
  {
   "cell_type": "code",
   "execution_count": 59,
   "id": "baafb031",
   "metadata": {},
   "outputs": [],
   "source": [
    "df.iloc[today] = new_row"
   ]
  },
  {
   "cell_type": "code",
   "execution_count": 49,
   "id": "b52eced6",
   "metadata": {},
   "outputs": [],
   "source": [
    "df = new_row"
   ]
  },
  {
   "cell_type": "code",
   "execution_count": 60,
   "id": "98f656be",
   "metadata": {},
   "outputs": [
    {
     "data": {
      "text/html": [
       "<div>\n",
       "<style scoped>\n",
       "    .dataframe tbody tr th:only-of-type {\n",
       "        vertical-align: middle;\n",
       "    }\n",
       "\n",
       "    .dataframe tbody tr th {\n",
       "        vertical-align: top;\n",
       "    }\n",
       "\n",
       "    .dataframe thead th {\n",
       "        text-align: right;\n",
       "    }\n",
       "</style>\n",
       "<table border=\"1\" class=\"dataframe\">\n",
       "  <thead>\n",
       "    <tr style=\"text-align: right;\">\n",
       "      <th></th>\n",
       "      <th>btc</th>\n",
       "      <th>cash</th>\n",
       "      <th>gold</th>\n",
       "      <th>silver</th>\n",
       "      <th>spy</th>\n",
       "      <th>total</th>\n",
       "    </tr>\n",
       "  </thead>\n",
       "  <tbody>\n",
       "    <tr>\n",
       "      <th>2022-04-03</th>\n",
       "      <td>1</td>\n",
       "      <td>1</td>\n",
       "      <td>1</td>\n",
       "      <td>1</td>\n",
       "      <td>1</td>\n",
       "      <td>5.0</td>\n",
       "    </tr>\n",
       "  </tbody>\n",
       "</table>\n",
       "</div>"
      ],
      "text/plain": [
       "            btc  cash  gold  silver  spy  total\n",
       "2022-04-03    1     1     1       1    1    5.0"
      ]
     },
     "execution_count": 60,
     "metadata": {},
     "output_type": "execute_result"
    }
   ],
   "source": [
    "new_row"
   ]
  },
  {
   "cell_type": "code",
   "execution_count": 81,
   "id": "a7e2251b",
   "metadata": {},
   "outputs": [],
   "source": [
    "df.set_index('index', inplace=True, drop=True)"
   ]
  },
  {
   "cell_type": "code",
   "execution_count": 85,
   "id": "6ce9ea56",
   "metadata": {},
   "outputs": [
    {
     "data": {
      "text/html": [
       "<div>\n",
       "<style scoped>\n",
       "    .dataframe tbody tr th:only-of-type {\n",
       "        vertical-align: middle;\n",
       "    }\n",
       "\n",
       "    .dataframe tbody tr th {\n",
       "        vertical-align: top;\n",
       "    }\n",
       "\n",
       "    .dataframe thead th {\n",
       "        text-align: right;\n",
       "    }\n",
       "</style>\n",
       "<table border=\"1\" class=\"dataframe\">\n",
       "  <thead>\n",
       "    <tr style=\"text-align: right;\">\n",
       "      <th></th>\n",
       "      <th>date</th>\n",
       "      <th>btc</th>\n",
       "      <th>cash</th>\n",
       "      <th>gold</th>\n",
       "      <th>silver</th>\n",
       "      <th>spy</th>\n",
       "    </tr>\n",
       "  </thead>\n",
       "  <tbody>\n",
       "    <tr>\n",
       "      <th>0</th>\n",
       "      <td>2022-04-03</td>\n",
       "      <td>3</td>\n",
       "      <td>3</td>\n",
       "      <td>3</td>\n",
       "      <td>3</td>\n",
       "      <td>3</td>\n",
       "    </tr>\n",
       "  </tbody>\n",
       "</table>\n",
       "</div>"
      ],
      "text/plain": [
       "        date btc cash gold silver spy\n",
       "0 2022-04-03   3    3    3      3   3"
      ]
     },
     "execution_count": 85,
     "metadata": {},
     "output_type": "execute_result"
    }
   ],
   "source": [
    "df"
   ]
  },
  {
   "cell_type": "code",
   "execution_count": null,
   "id": "e31c95f2",
   "metadata": {},
   "outputs": [],
   "source": []
  }
 ],
 "metadata": {
  "kernelspec": {
   "display_name": "Python 3 (ipykernel)",
   "language": "python",
   "name": "python3"
  },
  "language_info": {
   "codemirror_mode": {
    "name": "ipython",
    "version": 3
   },
   "file_extension": ".py",
   "mimetype": "text/x-python",
   "name": "python",
   "nbconvert_exporter": "python",
   "pygments_lexer": "ipython3",
   "version": "3.9.7"
  }
 },
 "nbformat": 4,
 "nbformat_minor": 5
}
