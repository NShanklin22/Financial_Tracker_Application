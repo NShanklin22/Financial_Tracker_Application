{
 "cells": [
  {
   "cell_type": "code",
   "execution_count": 19,
   "id": "e5f3ef57",
   "metadata": {},
   "outputs": [],
   "source": [
    "import pandas as pd\n",
    "import numpy as np\n",
    "import matplotlib as plt\n",
    "import sqlalchemy\n",
    "import sqlite3\n",
    "import datetime\n",
    "from datetime import datetime"
   ]
  },
  {
   "cell_type": "code",
   "execution_count": 20,
   "id": "b779d107",
   "metadata": {},
   "outputs": [],
   "source": [
    "connection = sqlite3.connect('data\\AssetValues.db')\n",
    "cursor = connection.cursor()\n",
    "engine = sqlalchemy.create_engine('sqlite:///data\\AssetValues.db').connect()\n",
    "\n",
    "df = pd.read_sql_table('AssetValues', engine, index_col='date')\n",
    "\n",
    "today = datetime.today().date()\n",
    "\n",
    "global assets\n",
    "assets = ['btc','cash','gold','silver','spy']"
   ]
  },
  {
   "cell_type": "code",
   "execution_count": 3,
   "id": "e469bcbe",
   "metadata": {},
   "outputs": [],
   "source": [
    "def getNewRow(assets):\n",
    "    today = datetime.today().date()\n",
    "    new_row = pd.DataFrame(index=[today])\n",
    "    confirm = False\n",
    "    while not confirm:\n",
    "        for i in range(len(assets)):\n",
    "            new_row[assets[i]] = input(\"Please enter a value for {}: \".format(assets[i]))\n",
    "        print(new_row.head())\n",
    "        response = input(\"Does this look correct? (Y/N): \")\n",
    "        if response == \"Y\":\n",
    "            confirm = True\n",
    "        elif response == \"N\":\n",
    "            confirm = False\n",
    "        else:\n",
    "            print(\"That is not a valid response\")\n",
    "    return new_row"
   ]
  },
  {
   "cell_type": "code",
   "execution_count": 36,
   "id": "1ffb0c26",
   "metadata": {},
   "outputs": [],
   "source": [
    "def updateAssets(AssetValue):\n",
    "    today = datetime.today().date()\n",
    "    new_row = getNewRow(assets)\n",
    "    new_row['total'] = new_row.sum(axis=1)\n",
    "    AssetValue.iloc[today] = new_row\n",
    "    return AssetValue\n",
    "    #AssetValue.to_sql('AssetValues', engine, if_exists='replace', index=True, index_label=\"date\")\n"
   ]
  },
  {
   "cell_type": "code",
   "execution_count": 39,
   "id": "83c8f8f0",
   "metadata": {},
   "outputs": [],
   "source": [
    "today = datetime.today().date()\n",
    "new_row = pd.DataFrame(index=[today])\n",
    "df = new_row"
   ]
  },
  {
   "cell_type": "code",
   "execution_count": 41,
   "id": "cc8281cd",
   "metadata": {},
   "outputs": [
    {
     "name": "stdout",
     "output_type": "stream",
     "text": [
      "This is the truth\n"
     ]
    }
   ],
   "source": [
    "if(today in df.index):\n",
    "    print(\"This is the truth\")\n",
    "else:\n",
    "    print(\"This is bourgeois propaganda\")"
   ]
  },
  {
   "cell_type": "code",
   "execution_count": 35,
   "id": "54aac8b2",
   "metadata": {},
   "outputs": [],
   "source": [
    "today = datetime.today().date()\n",
    "new_row = pd.DataFrame(index=[today])"
   ]
  },
  {
   "cell_type": "code",
   "execution_count": 57,
   "id": "328324a4",
   "metadata": {},
   "outputs": [],
   "source": [
    "new_row[assets] = 1\n",
    "new_row['total'] = new_row.sum(axis=1)"
   ]
  },
  {
   "cell_type": "code",
   "execution_count": 58,
   "id": "17145939",
   "metadata": {},
   "outputs": [
    {
     "name": "stdout",
     "output_type": "stream",
     "text": [
      "            btc  cash  gold  silver  spy  total\n",
      "2022-04-03    1     1     1       1    1    5.0\n"
     ]
    }
   ],
   "source": [
    "print(new_row)"
   ]
  },
  {
   "cell_type": "code",
   "execution_count": 59,
   "id": "015617ab",
   "metadata": {},
   "outputs": [],
   "source": [
    "df.iloc[today] = new_row"
   ]
  },
  {
   "cell_type": "code",
   "execution_count": 49,
   "id": "5a598d39",
   "metadata": {},
   "outputs": [],
   "source": [
    "df = new_row"
   ]
  },
  {
   "cell_type": "code",
   "execution_count": 60,
   "id": "84a43064",
   "metadata": {},
   "outputs": [
    {
     "data": {
      "text/html": [
       "<div>\n",
       "<style scoped>\n",
       "    .dataframe tbody tr th:only-of-type {\n",
       "        vertical-align: middle;\n",
       "    }\n",
       "\n",
       "    .dataframe tbody tr th {\n",
       "        vertical-align: top;\n",
       "    }\n",
       "\n",
       "    .dataframe thead th {\n",
       "        text-align: right;\n",
       "    }\n",
       "</style>\n",
       "<table border=\"1\" class=\"dataframe\">\n",
       "  <thead>\n",
       "    <tr style=\"text-align: right;\">\n",
       "      <th></th>\n",
       "      <th>btc</th>\n",
       "      <th>cash</th>\n",
       "      <th>gold</th>\n",
       "      <th>silver</th>\n",
       "      <th>spy</th>\n",
       "      <th>total</th>\n",
       "    </tr>\n",
       "  </thead>\n",
       "  <tbody>\n",
       "    <tr>\n",
       "      <th>2022-04-03</th>\n",
       "      <td>1</td>\n",
       "      <td>1</td>\n",
       "      <td>1</td>\n",
       "      <td>1</td>\n",
       "      <td>1</td>\n",
       "      <td>5.0</td>\n",
       "    </tr>\n",
       "  </tbody>\n",
       "</table>\n",
       "</div>"
      ],
      "text/plain": [
       "            btc  cash  gold  silver  spy  total\n",
       "2022-04-03    1     1     1       1    1    5.0"
      ]
     },
     "execution_count": 60,
     "metadata": {},
     "output_type": "execute_result"
    }
   ],
   "source": [
    "new_row"
   ]
  },
  {
   "cell_type": "code",
   "execution_count": 81,
   "id": "ba1b3811",
   "metadata": {},
   "outputs": [],
   "source": [
    "df.set_index('index', inplace=True, drop=True)"
   ]
  },
  {
   "cell_type": "code",
   "execution_count": 1,
   "id": "a18df4ca",
   "metadata": {
    "scrolled": true
   },
   "outputs": [
    {
     "ename": "NameError",
     "evalue": "name 'df' is not defined",
     "output_type": "error",
     "traceback": [
      "\u001b[1;31m---------------------------------------------------------------------------\u001b[0m",
      "\u001b[1;31mNameError\u001b[0m                                 Traceback (most recent call last)",
      "\u001b[1;32m~\\AppData\\Local\\Temp/ipykernel_19088/1396537375.py\u001b[0m in \u001b[0;36m<module>\u001b[1;34m\u001b[0m\n\u001b[1;32m----> 1\u001b[1;33m \u001b[0mdf\u001b[0m\u001b[1;33m\u001b[0m\u001b[1;33m\u001b[0m\u001b[0m\n\u001b[0m",
      "\u001b[1;31mNameError\u001b[0m: name 'df' is not defined"
     ]
    }
   ],
   "source": [
    "df"
   ]
  }
 ],
 "metadata": {
  "kernelspec": {
   "display_name": "Python 3 (ipykernel)",
   "language": "python",
   "name": "python3"
  },
  "language_info": {
   "codemirror_mode": {
    "name": "ipython",
    "version": 3
   },
   "file_extension": ".py",
   "mimetype": "text/x-python",
   "name": "python",
   "nbconvert_exporter": "python",
   "pygments_lexer": "ipython3",
   "version": "3.9.7"
  }
 },
 "nbformat": 4,
 "nbformat_minor": 5
}
