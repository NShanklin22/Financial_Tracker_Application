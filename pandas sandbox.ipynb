{
 "cells": [
  {
   "cell_type": "code",
   "execution_count": 15,
   "id": "b9652a07",
   "metadata": {},
   "outputs": [],
   "source": [
    "import pandas as pd\n",
    "import numpy as np\n",
    "import matplotlib as plt\n",
    "import sqlalchemy\n",
    "import sqlite3\n",
    "import datetime\n",
    "from datetime import datetime\n",
    "global assets\n",
    "assets = ['btc','cash','gold','silver','spy']"
   ]
  },
  {
   "cell_type": "code",
   "execution_count": 104,
   "id": "15119465",
   "metadata": {},
   "outputs": [],
   "source": [
    "today = datetime.today().date()\n",
    "new_row = pd.DataFrame(index=[today])"
   ]
  },
  {
   "cell_type": "code",
   "execution_count": 105,
   "id": "47a0b616",
   "metadata": {},
   "outputs": [
    {
     "data": {
      "text/plain": [
       "datetime.date(2022, 4, 6)"
      ]
     },
     "execution_count": 105,
     "metadata": {},
     "output_type": "execute_result"
    }
   ],
   "source": [
    "today"
   ]
  },
  {
   "cell_type": "code",
   "execution_count": 115,
   "id": "3bf5ebad",
   "metadata": {},
   "outputs": [],
   "source": [
    "connection = sqlite3.connect('data\\Portfolio.db')\n",
    "cursor = connection.cursor()\n",
    "engine = sqlalchemy.create_engine('sqlite:///data\\Portfolio.db').connect()"
   ]
  },
  {
   "cell_type": "code",
   "execution_count": null,
   "id": "cbc9e817",
   "metadata": {},
   "outputs": [],
   "source": [
    "df = pd.read_sql_table('AssetValues', engine, index_col='date')\n",
    "\n",
    "today = datetime.today().date()\n",
    "\n",
    "global assets\n",
    "assets = ['btc','cash','gold','silver','spy']"
   ]
  },
  {
   "cell_type": "code",
   "execution_count": 18,
   "id": "6427e970",
   "metadata": {},
   "outputs": [],
   "source": [
    "new_row[assets] = 0"
   ]
  },
  {
   "cell_type": "code",
   "execution_count": 19,
   "id": "55c63404",
   "metadata": {
    "scrolled": true
   },
   "outputs": [
    {
     "data": {
      "text/html": [
       "<div>\n",
       "<style scoped>\n",
       "    .dataframe tbody tr th:only-of-type {\n",
       "        vertical-align: middle;\n",
       "    }\n",
       "\n",
       "    .dataframe tbody tr th {\n",
       "        vertical-align: top;\n",
       "    }\n",
       "\n",
       "    .dataframe thead th {\n",
       "        text-align: right;\n",
       "    }\n",
       "</style>\n",
       "<table border=\"1\" class=\"dataframe\">\n",
       "  <thead>\n",
       "    <tr style=\"text-align: right;\">\n",
       "      <th></th>\n",
       "      <th>btc</th>\n",
       "      <th>cash</th>\n",
       "      <th>gold</th>\n",
       "      <th>silver</th>\n",
       "      <th>spy</th>\n",
       "    </tr>\n",
       "  </thead>\n",
       "  <tbody>\n",
       "    <tr>\n",
       "      <th>2022-04-06</th>\n",
       "      <td>0</td>\n",
       "      <td>0</td>\n",
       "      <td>0</td>\n",
       "      <td>0</td>\n",
       "      <td>0</td>\n",
       "    </tr>\n",
       "  </tbody>\n",
       "</table>\n",
       "</div>"
      ],
      "text/plain": [
       "            btc  cash  gold  silver  spy\n",
       "2022-04-06    0     0     0       0    0"
      ]
     },
     "execution_count": 19,
     "metadata": {},
     "output_type": "execute_result"
    }
   ],
   "source": [
    "new_row"
   ]
  },
  {
   "cell_type": "code",
   "execution_count": 20,
   "id": "1d1da639",
   "metadata": {},
   "outputs": [],
   "source": [
    "data = [1,1000,5,7,15]"
   ]
  },
  {
   "cell_type": "code",
   "execution_count": 21,
   "id": "1cc033ac",
   "metadata": {},
   "outputs": [
    {
     "name": "stdout",
     "output_type": "stream",
     "text": [
      "{'btc': 1, 'cash': 1000, 'gold': 5, 'silver': 7, 'spy': 15}\n"
     ]
    }
   ],
   "source": [
    "keys = assets\n",
    "values = data\n",
    "dictionary = dict(zip(keys, values))\n",
    "print(dictionary) # {'a': 1, 'b': 2, 'c': 3}"
   ]
  },
  {
   "cell_type": "code",
   "execution_count": 9,
   "id": "dcf92159",
   "metadata": {},
   "outputs": [],
   "source": [
    "new_new_row = pd.DataFrame(dictionary,index=[today])"
   ]
  },
  {
   "cell_type": "code",
   "execution_count": 10,
   "id": "1e1dbfad",
   "metadata": {},
   "outputs": [],
   "source": [
    "new_new_row['total'] = new_new_row.sum(axis=1)"
   ]
  },
  {
   "cell_type": "code",
   "execution_count": 11,
   "id": "7e12a7b4",
   "metadata": {
    "scrolled": true
   },
   "outputs": [
    {
     "data": {
      "text/html": [
       "<div>\n",
       "<style scoped>\n",
       "    .dataframe tbody tr th:only-of-type {\n",
       "        vertical-align: middle;\n",
       "    }\n",
       "\n",
       "    .dataframe tbody tr th {\n",
       "        vertical-align: top;\n",
       "    }\n",
       "\n",
       "    .dataframe thead th {\n",
       "        text-align: right;\n",
       "    }\n",
       "</style>\n",
       "<table border=\"1\" class=\"dataframe\">\n",
       "  <thead>\n",
       "    <tr style=\"text-align: right;\">\n",
       "      <th></th>\n",
       "      <th>btc</th>\n",
       "      <th>cash</th>\n",
       "      <th>gold</th>\n",
       "      <th>silver</th>\n",
       "      <th>spy</th>\n",
       "      <th>total</th>\n",
       "    </tr>\n",
       "  </thead>\n",
       "  <tbody>\n",
       "    <tr>\n",
       "      <th>2022-04-06</th>\n",
       "      <td>1</td>\n",
       "      <td>1000</td>\n",
       "      <td>5</td>\n",
       "      <td>7</td>\n",
       "      <td>15</td>\n",
       "      <td>1028</td>\n",
       "    </tr>\n",
       "  </tbody>\n",
       "</table>\n",
       "</div>"
      ],
      "text/plain": [
       "            btc  cash  gold  silver  spy  total\n",
       "2022-04-06    1  1000     5       7   15   1028"
      ]
     },
     "execution_count": 11,
     "metadata": {},
     "output_type": "execute_result"
    }
   ],
   "source": [
    "new_new_row"
   ]
  },
  {
   "cell_type": "code",
   "execution_count": 23,
   "id": "2fa46f8c",
   "metadata": {},
   "outputs": [],
   "source": [
    "df = pd.concat([df, new_new_row])"
   ]
  },
  {
   "cell_type": "code",
   "execution_count": 24,
   "id": "e8dd6948",
   "metadata": {
    "scrolled": true
   },
   "outputs": [
    {
     "data": {
      "text/html": [
       "<div>\n",
       "<style scoped>\n",
       "    .dataframe tbody tr th:only-of-type {\n",
       "        vertical-align: middle;\n",
       "    }\n",
       "\n",
       "    .dataframe tbody tr th {\n",
       "        vertical-align: top;\n",
       "    }\n",
       "\n",
       "    .dataframe thead th {\n",
       "        text-align: right;\n",
       "    }\n",
       "</style>\n",
       "<table border=\"1\" class=\"dataframe\">\n",
       "  <thead>\n",
       "    <tr style=\"text-align: right;\">\n",
       "      <th></th>\n",
       "      <th>btc</th>\n",
       "      <th>cash</th>\n",
       "      <th>gold</th>\n",
       "      <th>silver</th>\n",
       "      <th>spy</th>\n",
       "      <th>total</th>\n",
       "    </tr>\n",
       "  </thead>\n",
       "  <tbody>\n",
       "    <tr>\n",
       "      <th>2022-04-03 00:00:00</th>\n",
       "      <td>3.0</td>\n",
       "      <td>3.0</td>\n",
       "      <td>3.0</td>\n",
       "      <td>3.0</td>\n",
       "      <td>3.0</td>\n",
       "      <td>15.0</td>\n",
       "    </tr>\n",
       "    <tr>\n",
       "      <th>2022-04-06</th>\n",
       "      <td>1.0</td>\n",
       "      <td>1000.0</td>\n",
       "      <td>5.0</td>\n",
       "      <td>7.0</td>\n",
       "      <td>15.0</td>\n",
       "      <td>1028.0</td>\n",
       "    </tr>\n",
       "  </tbody>\n",
       "</table>\n",
       "</div>"
      ],
      "text/plain": [
       "                     btc    cash  gold  silver   spy   total\n",
       "2022-04-03 00:00:00  3.0     3.0   3.0     3.0   3.0    15.0\n",
       "2022-04-06           1.0  1000.0   5.0     7.0  15.0  1028.0"
      ]
     },
     "execution_count": 24,
     "metadata": {},
     "output_type": "execute_result"
    }
   ],
   "source": [
    "df"
   ]
  },
  {
   "cell_type": "code",
   "execution_count": 22,
   "id": "3a1a2e76",
   "metadata": {},
   "outputs": [
    {
     "data": {
      "text/html": [
       "<div>\n",
       "<style scoped>\n",
       "    .dataframe tbody tr th:only-of-type {\n",
       "        vertical-align: middle;\n",
       "    }\n",
       "\n",
       "    .dataframe tbody tr th {\n",
       "        vertical-align: top;\n",
       "    }\n",
       "\n",
       "    .dataframe thead th {\n",
       "        text-align: right;\n",
       "    }\n",
       "</style>\n",
       "<table border=\"1\" class=\"dataframe\">\n",
       "  <thead>\n",
       "    <tr style=\"text-align: right;\">\n",
       "      <th></th>\n",
       "      <th>btc</th>\n",
       "      <th>cash</th>\n",
       "      <th>gold</th>\n",
       "      <th>silver</th>\n",
       "      <th>spy</th>\n",
       "      <th>total</th>\n",
       "    </tr>\n",
       "    <tr>\n",
       "      <th>date</th>\n",
       "      <th></th>\n",
       "      <th></th>\n",
       "      <th></th>\n",
       "      <th></th>\n",
       "      <th></th>\n",
       "      <th></th>\n",
       "    </tr>\n",
       "  </thead>\n",
       "  <tbody>\n",
       "    <tr>\n",
       "      <th>2022-04-03</th>\n",
       "      <td>3.0</td>\n",
       "      <td>3.0</td>\n",
       "      <td>3.0</td>\n",
       "      <td>3.0</td>\n",
       "      <td>3.0</td>\n",
       "      <td>15.0</td>\n",
       "    </tr>\n",
       "  </tbody>\n",
       "</table>\n",
       "</div>"
      ],
      "text/plain": [
       "            btc  cash  gold  silver  spy  total\n",
       "date                                           \n",
       "2022-04-03  3.0   3.0   3.0     3.0  3.0   15.0"
      ]
     },
     "execution_count": 22,
     "metadata": {},
     "output_type": "execute_result"
    }
   ],
   "source": [
    "df"
   ]
  },
  {
   "cell_type": "code",
   "execution_count": 25,
   "id": "93357f7e",
   "metadata": {},
   "outputs": [
    {
     "name": "stdout",
     "output_type": "stream",
     "text": [
      "This is the truth\n"
     ]
    }
   ],
   "source": [
    "if(today in df.index):\n",
    "    print(\"This is the truth\")\n",
    "else:\n",
    "    print(\"This is bourgeois propaganda\")"
   ]
  },
  {
   "cell_type": "code",
   "execution_count": 32,
   "id": "ba69fb3a",
   "metadata": {},
   "outputs": [],
   "source": [
    "values = list(df.iloc[-1].values)"
   ]
  },
  {
   "cell_type": "code",
   "execution_count": 33,
   "id": "8df69cee",
   "metadata": {},
   "outputs": [
    {
     "data": {
      "text/plain": [
       "[1.0, 1000.0, 5.0, 7.0, 15.0, 1028.0]"
      ]
     },
     "execution_count": 33,
     "metadata": {},
     "output_type": "execute_result"
    }
   ],
   "source": [
    "values"
   ]
  },
  {
   "cell_type": "code",
   "execution_count": 84,
   "id": "cc4ceb58",
   "metadata": {},
   "outputs": [
    {
     "name": "stdout",
     "output_type": "stream",
     "text": [
      "This is bourgeois propaganda\n"
     ]
    }
   ],
   "source": [
    "    df.at[today] = df.iloc[-1]\n",
    "    values = list(df.iloc[-1].values)\n",
    "    match = False\n",
    "    while not match:\n",
    "        asset = input(\"Please enter the asset you would like to update {}: \".format(assets))\n",
    "        for i in range(len(assets)):\n",
    "            if assets[i] == asset:\n",
    "                try:\n",
    "                    quantity = int(input(\"Please enter the quantity of {} currently held: \".format(assets[i])))\n",
    "                    df.at[today,assets[i]]= quantity\n",
    "                    match = True\n",
    "                except:\n",
    "                    print(\"That is not a valid quantity\")\n",
    "    \n",
    "else:\n",
    "    df.at[today] = df.iloc[-1]\n",
    "    "
   ]
  },
  {
   "cell_type": "code",
   "execution_count": 75,
   "id": "d3ee0c2f",
   "metadata": {},
   "outputs": [],
   "source": [
    "df.at[today,assets[1]] = 1"
   ]
  },
  {
   "cell_type": "code",
   "execution_count": 61,
   "id": "4812bc17",
   "metadata": {},
   "outputs": [
    {
     "data": {
      "text/plain": [
       "'cash'"
      ]
     },
     "execution_count": 61,
     "metadata": {},
     "output_type": "execute_result"
    }
   ],
   "source": [
    "assets[1]"
   ]
  },
  {
   "cell_type": "code",
   "execution_count": 79,
   "id": "791e3d40",
   "metadata": {},
   "outputs": [
    {
     "data": {
      "text/html": [
       "<div>\n",
       "<style scoped>\n",
       "    .dataframe tbody tr th:only-of-type {\n",
       "        vertical-align: middle;\n",
       "    }\n",
       "\n",
       "    .dataframe tbody tr th {\n",
       "        vertical-align: top;\n",
       "    }\n",
       "\n",
       "    .dataframe thead th {\n",
       "        text-align: right;\n",
       "    }\n",
       "</style>\n",
       "<table border=\"1\" class=\"dataframe\">\n",
       "  <thead>\n",
       "    <tr style=\"text-align: right;\">\n",
       "      <th></th>\n",
       "      <th>btc</th>\n",
       "      <th>cash</th>\n",
       "      <th>gold</th>\n",
       "      <th>silver</th>\n",
       "      <th>spy</th>\n",
       "      <th>total</th>\n",
       "    </tr>\n",
       "  </thead>\n",
       "  <tbody>\n",
       "    <tr>\n",
       "      <th>2022-04-03</th>\n",
       "      <td>3.0</td>\n",
       "      <td>3.0</td>\n",
       "      <td>3.0</td>\n",
       "      <td>3.0</td>\n",
       "      <td>3.0</td>\n",
       "      <td>15.0</td>\n",
       "    </tr>\n",
       "    <tr>\n",
       "      <th>2022-04-06</th>\n",
       "      <td>NaN</td>\n",
       "      <td>100.0</td>\n",
       "      <td>NaN</td>\n",
       "      <td>NaN</td>\n",
       "      <td>NaN</td>\n",
       "      <td>NaN</td>\n",
       "    </tr>\n",
       "  </tbody>\n",
       "</table>\n",
       "</div>"
      ],
      "text/plain": [
       "            btc   cash  gold  silver  spy  total\n",
       "2022-04-03  3.0    3.0   3.0     3.0  3.0   15.0\n",
       "2022-04-06  NaN  100.0   NaN     NaN  NaN    NaN"
      ]
     },
     "execution_count": 79,
     "metadata": {},
     "output_type": "execute_result"
    }
   ],
   "source": [
    "df"
   ]
  },
  {
   "cell_type": "code",
   "execution_count": 95,
   "id": "a1de45ad",
   "metadata": {},
   "outputs": [],
   "source": [
    "df.drop(today,inplace=True)"
   ]
  },
  {
   "cell_type": "code",
   "execution_count": 68,
   "id": "140c1f96",
   "metadata": {},
   "outputs": [
    {
     "data": {
      "text/html": [
       "<div>\n",
       "<style scoped>\n",
       "    .dataframe tbody tr th:only-of-type {\n",
       "        vertical-align: middle;\n",
       "    }\n",
       "\n",
       "    .dataframe tbody tr th {\n",
       "        vertical-align: top;\n",
       "    }\n",
       "\n",
       "    .dataframe thead th {\n",
       "        text-align: right;\n",
       "    }\n",
       "</style>\n",
       "<table border=\"1\" class=\"dataframe\">\n",
       "  <thead>\n",
       "    <tr style=\"text-align: right;\">\n",
       "      <th></th>\n",
       "      <th>btc</th>\n",
       "      <th>cash</th>\n",
       "      <th>gold</th>\n",
       "      <th>silver</th>\n",
       "      <th>spy</th>\n",
       "      <th>total</th>\n",
       "    </tr>\n",
       "  </thead>\n",
       "  <tbody>\n",
       "    <tr>\n",
       "      <th>2022-04-03 00:00:00</th>\n",
       "      <td>3.0</td>\n",
       "      <td>3.0</td>\n",
       "      <td>3.0</td>\n",
       "      <td>3.0</td>\n",
       "      <td>3.0</td>\n",
       "      <td>15.0</td>\n",
       "    </tr>\n",
       "  </tbody>\n",
       "</table>\n",
       "</div>"
      ],
      "text/plain": [
       "                     btc  cash  gold  silver  spy  total\n",
       "2022-04-03 00:00:00  3.0   3.0   3.0     3.0  3.0   15.0"
      ]
     },
     "execution_count": 68,
     "metadata": {},
     "output_type": "execute_result"
    }
   ],
   "source": [
    "df"
   ]
  },
  {
   "cell_type": "code",
   "execution_count": 70,
   "id": "4ab6764c",
   "metadata": {},
   "outputs": [],
   "source": [
    "today = pd.to_datetime(today)"
   ]
  },
  {
   "cell_type": "code",
   "execution_count": 72,
   "id": "2b4d1cf5",
   "metadata": {},
   "outputs": [
    {
     "data": {
      "text/plain": [
       "Timestamp('2022-04-06 00:00:00')"
      ]
     },
     "execution_count": 72,
     "metadata": {},
     "output_type": "execute_result"
    }
   ],
   "source": [
    "today"
   ]
  },
  {
   "cell_type": "code",
   "execution_count": 82,
   "id": "1336d7b8",
   "metadata": {},
   "outputs": [
    {
     "data": {
      "text/plain": [
       "False"
      ]
     },
     "execution_count": 82,
     "metadata": {},
     "output_type": "execute_result"
    }
   ],
   "source": [
    "today in df.index"
   ]
  },
  {
   "cell_type": "code",
   "execution_count": 101,
   "id": "e64f4687",
   "metadata": {},
   "outputs": [
    {
     "name": "stdout",
     "output_type": "stream",
     "text": [
      "Please enter the asset you would like to update ['btc', 'cash', 'gold', 'silver', 'spy']: btc\n",
      "Please enter the quantity of btc currently held: 100\n"
     ]
    }
   ],
   "source": [
    "df.at[today] = df.iloc[-1]\n",
    "values = list(df.iloc[-1].values)\n",
    "match = False\n",
    "while not match:\n",
    "    asset = input(\"Please enter the asset you would like to update {}: \".format(assets))\n",
    "    for i in range(len(assets)):\n",
    "        if assets[i] == asset:\n",
    "            try:\n",
    "                quantity = int(input(\"Please enter the quantity of {} currently held: \".format(assets[i])))\n",
    "                df.at[today,assets[i]]= quantity\n",
    "                df['total'] = df.sum(axis=1)\n",
    "                match = True\n",
    "            except:\n",
    "                print(\"That is not a valid quantity\")"
   ]
  },
  {
   "cell_type": "code",
   "execution_count": 96,
   "id": "a7c50c8d",
   "metadata": {},
   "outputs": [],
   "source": [
    "df.at[today] = df.iloc[-1]"
   ]
  },
  {
   "cell_type": "code",
   "execution_count": 110,
   "id": "7f8f6233",
   "metadata": {},
   "outputs": [
    {
     "data": {
      "text/html": [
       "<div>\n",
       "<style scoped>\n",
       "    .dataframe tbody tr th:only-of-type {\n",
       "        vertical-align: middle;\n",
       "    }\n",
       "\n",
       "    .dataframe tbody tr th {\n",
       "        vertical-align: top;\n",
       "    }\n",
       "\n",
       "    .dataframe thead th {\n",
       "        text-align: right;\n",
       "    }\n",
       "</style>\n",
       "<table border=\"1\" class=\"dataframe\">\n",
       "  <thead>\n",
       "    <tr style=\"text-align: right;\">\n",
       "      <th></th>\n",
       "      <th>btc</th>\n",
       "      <th>cash</th>\n",
       "      <th>gold</th>\n",
       "      <th>silver</th>\n",
       "      <th>spy</th>\n",
       "      <th>total</th>\n",
       "    </tr>\n",
       "  </thead>\n",
       "  <tbody>\n",
       "    <tr>\n",
       "      <th>2022-04-03</th>\n",
       "      <td>3.0</td>\n",
       "      <td>3.0</td>\n",
       "      <td>3.0</td>\n",
       "      <td>3.0</td>\n",
       "      <td>3.0</td>\n",
       "      <td>30.0</td>\n",
       "    </tr>\n",
       "    <tr>\n",
       "      <th>2022-04-06</th>\n",
       "      <td>100.0</td>\n",
       "      <td>3.0</td>\n",
       "      <td>3.0</td>\n",
       "      <td>100.0</td>\n",
       "      <td>3.0</td>\n",
       "      <td>224.0</td>\n",
       "    </tr>\n",
       "  </tbody>\n",
       "</table>\n",
       "</div>"
      ],
      "text/plain": [
       "              btc  cash  gold  silver  spy  total\n",
       "2022-04-03    3.0   3.0   3.0     3.0  3.0   30.0\n",
       "2022-04-06  100.0   3.0   3.0   100.0  3.0  224.0"
      ]
     },
     "execution_count": 110,
     "metadata": {},
     "output_type": "execute_result"
    }
   ],
   "source": [
    "df"
   ]
  },
  {
   "cell_type": "code",
   "execution_count": 113,
   "id": "8ecca537",
   "metadata": {},
   "outputs": [],
   "source": [
    "df.drop(['total'],axis=1,inplace=True)"
   ]
  },
  {
   "cell_type": "code",
   "execution_count": 114,
   "id": "e0308756",
   "metadata": {},
   "outputs": [
    {
     "data": {
      "text/html": [
       "<div>\n",
       "<style scoped>\n",
       "    .dataframe tbody tr th:only-of-type {\n",
       "        vertical-align: middle;\n",
       "    }\n",
       "\n",
       "    .dataframe tbody tr th {\n",
       "        vertical-align: top;\n",
       "    }\n",
       "\n",
       "    .dataframe thead th {\n",
       "        text-align: right;\n",
       "    }\n",
       "</style>\n",
       "<table border=\"1\" class=\"dataframe\">\n",
       "  <thead>\n",
       "    <tr style=\"text-align: right;\">\n",
       "      <th></th>\n",
       "      <th>btc</th>\n",
       "      <th>cash</th>\n",
       "      <th>gold</th>\n",
       "      <th>silver</th>\n",
       "      <th>spy</th>\n",
       "    </tr>\n",
       "  </thead>\n",
       "  <tbody>\n",
       "    <tr>\n",
       "      <th>2022-04-03</th>\n",
       "      <td>3.0</td>\n",
       "      <td>3.0</td>\n",
       "      <td>3.0</td>\n",
       "      <td>3.0</td>\n",
       "      <td>3.0</td>\n",
       "    </tr>\n",
       "    <tr>\n",
       "      <th>2022-04-06</th>\n",
       "      <td>100.0</td>\n",
       "      <td>3.0</td>\n",
       "      <td>3.0</td>\n",
       "      <td>100.0</td>\n",
       "      <td>3.0</td>\n",
       "    </tr>\n",
       "  </tbody>\n",
       "</table>\n",
       "</div>"
      ],
      "text/plain": [
       "              btc  cash  gold  silver  spy\n",
       "2022-04-03    3.0   3.0   3.0     3.0  3.0\n",
       "2022-04-06  100.0   3.0   3.0   100.0  3.0"
      ]
     },
     "execution_count": 114,
     "metadata": {},
     "output_type": "execute_result"
    }
   ],
   "source": [
    "df"
   ]
  },
  {
   "cell_type": "code",
   "execution_count": 116,
   "id": "da2d366c",
   "metadata": {},
   "outputs": [],
   "source": [
    "df.to_sql('AssetHoldings', engine, if_exists='replace', index=True, index_label=\"date\")"
   ]
  },
  {
   "cell_type": "code",
   "execution_count": null,
   "id": "f3bc6534",
   "metadata": {},
   "outputs": [],
   "source": []
  }
 ],
 "metadata": {
  "kernelspec": {
   "display_name": "Python 3 (ipykernel)",
   "language": "python",
   "name": "python3"
  },
  "language_info": {
   "codemirror_mode": {
    "name": "ipython",
    "version": 3
   },
   "file_extension": ".py",
   "mimetype": "text/x-python",
   "name": "python",
   "nbconvert_exporter": "python",
   "pygments_lexer": "ipython3",
   "version": "3.9.7"
  }
 },
 "nbformat": 4,
 "nbformat_minor": 5
}
