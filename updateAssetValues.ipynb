{
 "cells": [
  {
   "cell_type": "code",
   "execution_count": 1,
   "id": "4c182655",
   "metadata": {},
   "outputs": [],
   "source": [
    "import pandas as pd\n",
    "import numpy as np\n",
    "import matplotlib as plt\n",
    "import sqlalchemy\n",
    "import sqlite3\n",
    "import datetime\n",
    "from datetime import datetime\n",
    "global assets\n",
    "assetNames = ['btc','cash','gold','silver','spy']\n",
    "assetUnits = ['btc_qty','cash_$','gold_g','silver_oz','spy_qty']"
   ]
  },
  {
   "cell_type": "code",
   "execution_count": 2,
   "id": "8c4f01ab",
   "metadata": {},
   "outputs": [],
   "source": [
    "connection = sqlite3.connect('data\\Portfolio.db')\n",
    "cursor = connection.cursor()\n",
    "engine = sqlalchemy.create_engine('sqlite:///data\\Portfolio.db').connect()"
   ]
  },
  {
   "cell_type": "code",
   "execution_count": 7,
   "id": "c6d66389",
   "metadata": {},
   "outputs": [],
   "source": [
    "today = pd.to_datetime(datetime.today().date())"
   ]
  },
  {
   "cell_type": "code",
   "execution_count": 8,
   "id": "c1dc5770",
   "metadata": {},
   "outputs": [],
   "source": [
    "AssetHoldings = pd.read_sql_table('AssetHoldings',engine,index_col='date')\n",
    "AssetValues = pd.read_sql_table('AssetValues', engine, index_col='date')"
   ]
  },
  {
   "cell_type": "code",
   "execution_count": 9,
   "id": "7c382075",
   "metadata": {},
   "outputs": [
    {
     "data": {
      "text/html": [
       "<div>\n",
       "<style scoped>\n",
       "    .dataframe tbody tr th:only-of-type {\n",
       "        vertical-align: middle;\n",
       "    }\n",
       "\n",
       "    .dataframe tbody tr th {\n",
       "        vertical-align: top;\n",
       "    }\n",
       "\n",
       "    .dataframe thead th {\n",
       "        text-align: right;\n",
       "    }\n",
       "</style>\n",
       "<table border=\"1\" class=\"dataframe\">\n",
       "  <thead>\n",
       "    <tr style=\"text-align: right;\">\n",
       "      <th></th>\n",
       "      <th>btc_qty</th>\n",
       "      <th>cash_$</th>\n",
       "      <th>gold_g</th>\n",
       "      <th>silver_oz</th>\n",
       "      <th>spy_qty</th>\n",
       "    </tr>\n",
       "    <tr>\n",
       "      <th>date</th>\n",
       "      <th></th>\n",
       "      <th></th>\n",
       "      <th></th>\n",
       "      <th></th>\n",
       "      <th></th>\n",
       "    </tr>\n",
       "  </thead>\n",
       "  <tbody>\n",
       "    <tr>\n",
       "      <th>2022-04-06</th>\n",
       "      <td>0.006554</td>\n",
       "      <td>1097.0</td>\n",
       "      <td>5.0</td>\n",
       "      <td>7.0</td>\n",
       "      <td>20.0</td>\n",
       "    </tr>\n",
       "    <tr>\n",
       "      <th>2022-04-10</th>\n",
       "      <td>0.006554</td>\n",
       "      <td>1097.0</td>\n",
       "      <td>5.0</td>\n",
       "      <td>7.0</td>\n",
       "      <td>20.0</td>\n",
       "    </tr>\n",
       "  </tbody>\n",
       "</table>\n",
       "</div>"
      ],
      "text/plain": [
       "             btc_qty  cash_$  gold_g  silver_oz  spy_qty\n",
       "date                                                    \n",
       "2022-04-06  0.006554  1097.0     5.0        7.0     20.0\n",
       "2022-04-10  0.006554  1097.0     5.0        7.0     20.0"
      ]
     },
     "execution_count": 9,
     "metadata": {},
     "output_type": "execute_result"
    }
   ],
   "source": [
    "AssetHoldings"
   ]
  },
  {
   "cell_type": "code",
   "execution_count": 10,
   "id": "6c3f5a62",
   "metadata": {},
   "outputs": [
    {
     "data": {
      "text/html": [
       "<div>\n",
       "<style scoped>\n",
       "    .dataframe tbody tr th:only-of-type {\n",
       "        vertical-align: middle;\n",
       "    }\n",
       "\n",
       "    .dataframe tbody tr th {\n",
       "        vertical-align: top;\n",
       "    }\n",
       "\n",
       "    .dataframe thead th {\n",
       "        text-align: right;\n",
       "    }\n",
       "</style>\n",
       "<table border=\"1\" class=\"dataframe\">\n",
       "  <thead>\n",
       "    <tr style=\"text-align: right;\">\n",
       "      <th></th>\n",
       "      <th>btc</th>\n",
       "      <th>cash</th>\n",
       "      <th>gold</th>\n",
       "      <th>silver</th>\n",
       "      <th>spy</th>\n",
       "      <th>total</th>\n",
       "    </tr>\n",
       "    <tr>\n",
       "      <th>date</th>\n",
       "      <th></th>\n",
       "      <th></th>\n",
       "      <th></th>\n",
       "      <th></th>\n",
       "      <th></th>\n",
       "      <th></th>\n",
       "    </tr>\n",
       "  </thead>\n",
       "  <tbody>\n",
       "    <tr>\n",
       "      <th>2022-04-05</th>\n",
       "      <td>1.0</td>\n",
       "      <td>1.0</td>\n",
       "      <td>1.0</td>\n",
       "      <td>1.0</td>\n",
       "      <td>1.0</td>\n",
       "      <td>5.0</td>\n",
       "    </tr>\n",
       "  </tbody>\n",
       "</table>\n",
       "</div>"
      ],
      "text/plain": [
       "            btc  cash  gold  silver  spy  total\n",
       "date                                           \n",
       "2022-04-05  1.0   1.0   1.0     1.0  1.0    5.0"
      ]
     },
     "execution_count": 10,
     "metadata": {},
     "output_type": "execute_result"
    }
   ],
   "source": [
    "AssetValues"
   ]
  },
  {
   "cell_type": "code",
   "execution_count": 11,
   "id": "384fad3b",
   "metadata": {},
   "outputs": [],
   "source": [
    "CurrentValues = {'btc':44085.81,'cash':1,'gold':62.28,'silver':24.67,'spy':43.42}"
   ]
  },
  {
   "cell_type": "code",
   "execution_count": 22,
   "id": "ba1d7c3b",
   "metadata": {},
   "outputs": [
    {
     "data": {
      "text/plain": [
       "0.006554"
      ]
     },
     "execution_count": 22,
     "metadata": {},
     "output_type": "execute_result"
    }
   ],
   "source": [
    "AssetHoldings.at[today,assetUnits[0]]"
   ]
  },
  {
   "cell_type": "code",
   "execution_count": 33,
   "id": "25b3c3d1",
   "metadata": {},
   "outputs": [
    {
     "name": "stdout",
     "output_type": "stream",
     "text": [
      "             btc_qty  cash_$  gold_g  silver_oz  spy_qty\n",
      "date                                                    \n",
      "2022-04-10  0.006554  1097.0     5.0        7.0     20.0\n"
     ]
    }
   ],
   "source": [
    "print(AssetHoldings.tail(1))"
   ]
  },
  {
   "cell_type": "code",
   "execution_count": null,
   "id": "e85dc025",
   "metadata": {},
   "outputs": [],
   "source": []
  },
  {
   "cell_type": "code",
   "execution_count": null,
   "id": "665aa3c9",
   "metadata": {},
   "outputs": [],
   "source": []
  },
  {
   "cell_type": "code",
   "execution_count": 23,
   "id": "98dfc560",
   "metadata": {},
   "outputs": [],
   "source": [
    "for i in range(len(assetUnits)):\n",
    "    AssetValues.at[today,assetNames[i]] = CurrentValues[assetNames[i]] * AssetHoldings.at[today,assetUnits[i]]\n",
    "AssetValues['total'] = AssetValues.sum(axis=1)"
   ]
  },
  {
   "cell_type": "code",
   "execution_count": 13,
   "id": "baf84fbc",
   "metadata": {},
   "outputs": [],
   "source": [
    "AssetValues.at[today] = AssetHoldings.iloc[-1]"
   ]
  },
  {
   "cell_type": "code",
   "execution_count": 24,
   "id": "7ce42a7b",
   "metadata": {},
   "outputs": [
    {
     "data": {
      "text/html": [
       "<div>\n",
       "<style scoped>\n",
       "    .dataframe tbody tr th:only-of-type {\n",
       "        vertical-align: middle;\n",
       "    }\n",
       "\n",
       "    .dataframe tbody tr th {\n",
       "        vertical-align: top;\n",
       "    }\n",
       "\n",
       "    .dataframe thead th {\n",
       "        text-align: right;\n",
       "    }\n",
       "</style>\n",
       "<table border=\"1\" class=\"dataframe\">\n",
       "  <thead>\n",
       "    <tr style=\"text-align: right;\">\n",
       "      <th></th>\n",
       "      <th>btc</th>\n",
       "      <th>cash</th>\n",
       "      <th>gold</th>\n",
       "      <th>silver</th>\n",
       "      <th>spy</th>\n",
       "      <th>total</th>\n",
       "    </tr>\n",
       "    <tr>\n",
       "      <th>date</th>\n",
       "      <th></th>\n",
       "      <th></th>\n",
       "      <th></th>\n",
       "      <th></th>\n",
       "      <th></th>\n",
       "      <th></th>\n",
       "    </tr>\n",
       "  </thead>\n",
       "  <tbody>\n",
       "    <tr>\n",
       "      <th>2022-04-05</th>\n",
       "      <td>1.000000</td>\n",
       "      <td>1.0</td>\n",
       "      <td>1.0</td>\n",
       "      <td>1.00</td>\n",
       "      <td>1.0</td>\n",
       "      <td>15.000000</td>\n",
       "    </tr>\n",
       "    <tr>\n",
       "      <th>2022-04-10</th>\n",
       "      <td>288.938399</td>\n",
       "      <td>1097.0</td>\n",
       "      <td>311.4</td>\n",
       "      <td>172.69</td>\n",
       "      <td>868.4</td>\n",
       "      <td>2738.428399</td>\n",
       "    </tr>\n",
       "  </tbody>\n",
       "</table>\n",
       "</div>"
      ],
      "text/plain": [
       "                   btc    cash   gold  silver    spy        total\n",
       "date                                                             \n",
       "2022-04-05    1.000000     1.0    1.0    1.00    1.0    15.000000\n",
       "2022-04-10  288.938399  1097.0  311.4  172.69  868.4  2738.428399"
      ]
     },
     "execution_count": 24,
     "metadata": {},
     "output_type": "execute_result"
    }
   ],
   "source": [
    "AssetValues"
   ]
  },
  {
   "cell_type": "code",
   "execution_count": 16,
   "id": "2c8dd1ea",
   "metadata": {},
   "outputs": [
    {
     "ename": "NameError",
     "evalue": "name 'assets' is not defined",
     "output_type": "error",
     "traceback": [
      "\u001b[1;31m---------------------------------------------------------------------------\u001b[0m",
      "\u001b[1;31mNameError\u001b[0m                                 Traceback (most recent call last)",
      "\u001b[1;32m~\\AppData\\Local\\Temp/ipykernel_19028/1714248636.py\u001b[0m in \u001b[0;36m<module>\u001b[1;34m\u001b[0m\n\u001b[1;32m----> 1\u001b[1;33m \u001b[0mAssetHoldings\u001b[0m\u001b[1;33m.\u001b[0m\u001b[0miloc\u001b[0m\u001b[1;33m[\u001b[0m\u001b[0mtoday\u001b[0m\u001b[1;33m,\u001b[0m\u001b[0massets\u001b[0m\u001b[1;33m[\u001b[0m\u001b[0mi\u001b[0m\u001b[1;33m]\u001b[0m\u001b[1;33m]\u001b[0m\u001b[1;33m\u001b[0m\u001b[1;33m\u001b[0m\u001b[0m\n\u001b[0m",
      "\u001b[1;31mNameError\u001b[0m: name 'assets' is not defined"
     ]
    }
   ],
   "source": [
    "AssetHoldings.iloc[today,assets[i]]"
   ]
  },
  {
   "cell_type": "code",
   "execution_count": 18,
   "id": "359c6523",
   "metadata": {},
   "outputs": [
    {
     "data": {
      "text/plain": [
       "44085.81"
      ]
     },
     "execution_count": 18,
     "metadata": {},
     "output_type": "execute_result"
    }
   ],
   "source": [
    "CurrentValues[assetNames[0]]"
   ]
  },
  {
   "cell_type": "code",
   "execution_count": null,
   "id": "a34b82c6",
   "metadata": {},
   "outputs": [],
   "source": [
    "    DateTimeRange = pd.to_datetime(DataRange['date'])\n",
    "    DataRange = DataRange.drop('date',axis=1)\n",
    "    CatTotal = DataRange.sum()\n",
    "    RangeTotal = CatTotal.sum()\n",
    "    CatPercent = (CatTotal / RangeTotal * 100)\n",
    "    DateStart = datetime.strftime(DateTimeRange.iloc[0].date(),\"%m-%d-%y\")\n",
    "    DateEnd = datetime.strftime(DateTimeRange.iloc[-1].date(),\"%m-%d-%y\")\n",
    "\n",
    "    # Create the pie chart and set the settings\n",
    "    labels = 'Programming', 'Gaming', 'Electronics', 'Design'\n",
    "    fig1, ax1 = plt.subplots()\n",
    "    fig1.set_size_inches(10.5, 10.5)\n",
    "\n",
    "    ax1.pie(CatPercent, labels=labels, autopct='%1.1f%%', shadow=True, startangle=90)\n",
    "    ax1.axis('equal')  # Equal aspect ratio ensures that pie is drawn as a circle.\n",
    "\n",
    "    plt.title(label=\"Percent Time per Category from {} to {}\".format(DateStart,DateEnd), fontsize=18, loc=\"left\")\n",
    "    my_path = os.path.abspath(__file__)\n",
    "    plt.savefig(os.path.join(my_path, '..\\Charts\\PieChart_S{}_E{}.png'.format(DateStart,DateEnd)))\n",
    "    plt.show()"
   ]
  }
 ],
 "metadata": {
  "kernelspec": {
   "display_name": "Python 3 (ipykernel)",
   "language": "python",
   "name": "python3"
  },
  "language_info": {
   "codemirror_mode": {
    "name": "ipython",
    "version": 3
   },
   "file_extension": ".py",
   "mimetype": "text/x-python",
   "name": "python",
   "nbconvert_exporter": "python",
   "pygments_lexer": "ipython3",
   "version": "3.9.7"
  }
 },
 "nbformat": 4,
 "nbformat_minor": 5
}
